{
 "cells": [
  {
   "cell_type": "code",
   "execution_count": 6,
   "metadata": {},
   "outputs": [],
   "source": [
    "import json\n",
    "import pandas as pd\n",
    "import numpy as np\n",
    "import re\n",
    "\n",
    "with open('data/ICPC-SNOMED-20230711.json') as f:\n",
    "    data = json.load(f)\n",
    "\n",
    "#store all mappings in a dictionary\n",
    "codes = {}\n",
    "\n",
    "for group in data[\"group\"]:\n",
    "    for element in group[\"element\"]:\n",
    "        code = element[\"code\"]\n",
    "        target_code = element[\"target\"][0][\"code\"]\n",
    "        codes[code] = target_code"
   ]
  },
  {
   "cell_type": "code",
   "execution_count": 7,
   "metadata": {},
   "outputs": [],
   "source": [
    "df = pd.read_csv('data/subject_data.csv')\n",
    "df1 = pd.read_csv('data/situation_data.csv')\n",
    "\n",
    "def map_to_snomed(icpc_codes):\n",
    "    icpc_codes = str(icpc_codes).upper()\n",
    "    if re.search(r'[;,]', icpc_codes):\n",
    "        snomed_codes = []\n",
    "        for icpc_code in re.split(r'[;,]', icpc_codes):\n",
    "            snomed_code = codes.get(icpc_code.strip(), \"NaN\")\n",
    "            snomed_codes.append(snomed_code)\n",
    "        return ', '.join(snomed_codes)\n",
    "    else:\n",
    "        return codes.get(icpc_codes.strip(), \"NaN\")\n",
    "\n",
    "#map icpc codes to snomed codes for both dataframes\n",
    "df[\"SNOMED\"] = [map_to_snomed(icpc) for icpc in df[\"icpc\"]]\n",
    "df1[\"SNOMED\"] = [map_to_snomed(icpc) for icpc in df1[\"icpc\"]]"
   ]
  }
 ],
 "metadata": {
  "kernelspec": {
   "display_name": "venv",
   "language": "python",
   "name": "python3"
  },
  "language_info": {
   "codemirror_mode": {
    "name": "ipython",
    "version": 3
   },
   "file_extension": ".py",
   "mimetype": "text/x-python",
   "name": "python",
   "nbconvert_exporter": "python",
   "pygments_lexer": "ipython3",
   "version": "3.10.7"
  }
 },
 "nbformat": 4,
 "nbformat_minor": 2
}
